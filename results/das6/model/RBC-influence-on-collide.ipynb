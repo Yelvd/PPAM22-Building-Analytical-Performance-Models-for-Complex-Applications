{
 "cells": [
  {
   "cell_type": "code",
   "execution_count": 1,
   "id": "658aa1a8-7111-4eb7-ac14-21774eacab6b",
   "metadata": {},
   "outputs": [],
   "source": [
    "import pandas as pd\n",
    "import numpy as np\n",
    "import matplotlib.pyplot as plt\n",
    "from matplotlib.lines import Line2D\n",
    "import glob\n",
    "from scipy import stats\n",
    "from scipy.optimize import curve_fit\n",
    "import scipy\n",
    "from mpl_toolkits.mplot3d import Axes3D\n",
    "from matplotlib import cm\n",
    "import sys\n",
    "import read_data"
   ]
  },
  {
   "cell_type": "code",
   "execution_count": 2,
   "id": "05ee98ec-145a-48e3-9a62-93cffe108021",
   "metadata": {},
   "outputs": [],
   "source": [
    "plt.rcParams.update({\n",
    "    \"text.usetex\": True,\n",
    "    \"font.family\": \"sans-serif\",\n",
    "    \"font.sans-serif\": [\"Helvetica\"]})\n",
    "plt.rcParams.update({'font.size': 15})\n",
    "\n",
    "CB_color_cycle = ['#377eb8', '#ff7f00', '#4daf4a',\n",
    "                  '#f781bf', '#a65628', '#984ea3',\n",
    "                  '#999999', '#e41a1c', '#dede00']"
   ]
  },
  {
   "cell_type": "code",
   "execution_count": 3,
   "id": "f9b746f6-dec9-4717-9f61-e63456781980",
   "metadata": {},
   "outputs": [],
   "source": [
    "# Give component names in the order they apear in the scorep output\n",
    "components = [\"spreadParticleForce\", \"collideAndStream\", \"interpolateFluidVelocity\", \"syncEnvelopes\", \"advanceParticles\", \"applyConstitutiveModel\", \"deleteNonLocalParticles\", \"setExternalVector\"]\n",
    "raw_df = read_data.gen_df(\"./results\", components)\n",
    "\n",
    "fitting_sizes = [\"s0\", \"s2\", \"s3\", \"s5\", \"s7\", \"s8\"]\n",
    "testing_sizes = [\"s1\", \"s4\", \"s6\", \"s9\"]\n",
    "fitting_df = raw_df[ raw_df['sizestr'].isin(fitting_sizes)]\n",
    "testing_df = raw_df[ raw_df['sizestr'].isin(testing_sizes)]"
   ]
  },
  {
   "cell_type": "code",
   "execution_count": 4,
   "id": "a15d5de2-c066-4314-b769-19b9fcb39713",
   "metadata": {},
   "outputs": [
    {
     "ename": "NameError",
     "evalue": "name 'total_df' is not defined",
     "output_type": "error",
     "traceback": [
      "\u001b[0;31m---------------------------------------------------------------------------\u001b[0m",
      "\u001b[0;31mNameError\u001b[0m                                 Traceback (most recent call last)",
      "\u001b[0;32m<ipython-input-4-8588bc404cb8>\u001b[0m in \u001b[0;36m<module>\u001b[0;34m\u001b[0m\n\u001b[0;32m----> 1\u001b[0;31m \u001b[0mtotal_df\u001b[0m\u001b[0;34m\u001b[0m\u001b[0;34m\u001b[0m\u001b[0m\n\u001b[0m",
      "\u001b[0;31mNameError\u001b[0m: name 'total_df' is not defined"
     ]
    }
   ],
   "source": [
    "total_df"
   ]
  },
  {
   "cell_type": "code",
   "execution_count": 5,
   "id": "f194ecf4-c363-4ea1-941b-ba74c4f0e73d",
   "metadata": {
    "tags": []
   },
   "outputs": [
    {
     "data": {
      "image/png": "[encoded data removed]",
      "text/plain": [
       "<Figure size 1440x1440 with 1 Axes>"
      ]
     },
     "metadata": {
      "needs_background": "light"
     },
     "output_type": "display_data"
    }
   ],
   "source": [
    "cas_df = raw_df.loc[raw_df['component'] == \"collideAndStream\"]\n",
    "\n",
    "sizes = set(cas_df['N'])\n",
    "Hs = set(cas_df['H'])\n",
    "\n",
    "fig = plt.figure(figsize=(20, 20))\n",
    "ax = fig.add_subplot(2, 1, 1)\n",
    "\n",
    "\n",
    "for h in Hs:\n",
    "    plt.plot(cas_df.loc[cas_df['H'] == h]['N'], cas_df.loc[cas_df['H'] == h]['comp'], 'o', label='H='+str(h)+\"\\%\")\n",
    "    \n",
    "\n",
    "ax.set_yscale('log')\n",
    "ax.set_xscale('log')\n",
    "plt.title('CollideAndStream computation for differnet hematocrit and domains sizes. DAS6')\n",
    "plt.xlabel('N')\n",
    "plt.ylabel(\"Time\")\n",
    "plt.legend()\n",
    "plt.show()"
   ]
  },
  {
   "cell_type": "code",
   "execution_count": null,
   "id": "b34adb50-d4c4-457c-97fa-52745d54f58e",
   "metadata": {
    "jupyter": {
     "source_hidden": true
    },
    "tags": []
   },
   "outputs": [],
   "source": [
    "cas_df = raw_df.loc[raw_df['component'] == \"collideAndStream\"]\n",
    "\n",
    "sizes = set(cas_df['N'])\n",
    "Hs = set(cas_df['H'])\n",
    "\n",
    "fig = plt.figure(figsize=(20, 20))\n",
    "ax = fig.add_subplot(2, 1, 1)\n",
    "\n",
    "\n",
    "for h in Hs:\n",
    "    plt.plot(cas_df.loc[cas_df['H'] == h]['N'], cas_df.loc[cas_df['H'] == h]['comm'], 'o', label='H='+str(h)+\"\\%\")\n",
    "    \n",
    "\n",
    "ax.set_yscale('log')\n",
    "ax.set_xscale('log')\n",
    "plt.title('CollideAndStream communication for differnet hematocrit and domains sizes. DAS6')\n",
    "plt.xlabel('N')\n",
    "plt.ylabel(\"Time\")\n",
    "plt.legend()\n",
    "plt.show()"
   ]
  },
  {
   "cell_type": "code",
   "execution_count": null,
   "id": "db44fdf1-6c65-4fc4-ab9f-d4fea2160650",
   "metadata": {},
   "outputs": [],
   "source": []
  },
  {
   "cell_type": "code",
   "execution_count": null,
   "id": "9b1a5958-0104-4974-913a-2fd6314c3a0e",
   "metadata": {},
   "outputs": [],
   "source": []
  }
 ],
 "metadata": {
  "kernelspec": {
   "display_name": "Python 3",
   "language": "python",
   "name": "python3"
  },
  "language_info": {
   "codemirror_mode": {
    "name": "ipython",
    "version": 3
   },
   "file_extension": ".py",
   "mimetype": "text/x-python",
   "name": "python",
   "nbconvert_exporter": "python",
   "pygments_lexer": "ipython3",
   "version": "3.8.10"
  }
 },
 "nbformat": 4,
 "nbformat_minor": 5
}
